{
 "cells": [
  {
   "cell_type": "code",
   "execution_count": 8,
   "metadata": {
    "collapsed": false
   },
   "outputs": [
    {
     "name": "stdout",
     "output_type": "stream",
     "text": [
      "The autoreload extension is already loaded. To reload it, use:\n",
      "  %reload_ext autoreload\n"
     ]
    }
   ],
   "source": [
    "import numpy as np\n",
    "import os\n",
    "import matplotlib.pyplot as plt\n",
    "%matplotlib inline\n",
    "%load_ext autoreload"
   ]
  },
  {
   "cell_type": "code",
   "execution_count": 9,
   "metadata": {
    "collapsed": false
   },
   "outputs": [],
   "source": [
    "# setting up sncosmo\n",
    "import sncosmo"
   ]
  },
  {
   "cell_type": "code",
   "execution_count": 10,
   "metadata": {
    "collapsed": true
   },
   "outputs": [],
   "source": [
    "import os\n",
    "from copy import deepcopy"
   ]
  },
  {
   "cell_type": "code",
   "execution_count": 11,
   "metadata": {
    "collapsed": true
   },
   "outputs": [],
   "source": [
    "import gedankenLSST\n",
    "import numpy as np\n",
    "import pandas as pd"
   ]
  },
  {
   "cell_type": "code",
   "execution_count": 12,
   "metadata": {
    "collapsed": true
   },
   "outputs": [],
   "source": [
    "from LSSTmetrics import PerSNMetric"
   ]
  },
  {
   "cell_type": "code",
   "execution_count": 13,
   "metadata": {
    "collapsed": true
   },
   "outputs": [],
   "source": [
    "from lsst.sims.photUtils import BandpassDict"
   ]
  },
  {
   "cell_type": "code",
   "execution_count": 17,
   "metadata": {
    "collapsed": false
   },
   "outputs": [],
   "source": [
    "import analyzeSN.analyzelcFits as anf"
   ]
  },
  {
   "cell_type": "code",
   "execution_count": 18,
   "metadata": {
    "collapsed": false
   },
   "outputs": [
    {
     "name": "stdout",
     "output_type": "stream",
     "text": [
      "u\n",
      "g\n",
      "r\n",
      "i\n",
      "z\n",
      "y\n"
     ]
    }
   ],
   "source": [
    "# Run this once. It does not change\n",
    "\n",
    "lsst_bp = BandpassDict.loadTotalBandpassesFromFiles()\n",
    "\n",
    "# sncosmo Bandpasses required for fitting\n",
    "throughputsdir = os.getenv('THROUGHPUTS_DIR')\n",
    "\n",
    "from astropy.units import Unit\n",
    "bandPassList = ['u', 'g', 'r', 'i', 'z', 'y']\n",
    "banddir = os.path.join(os.getenv('THROUGHPUTS_DIR'), 'baseline')\n",
    "\n",
    "for band in bandPassList:\n",
    "\n",
    "    # setup sncosmo bandpasses\n",
    "    bandfname = banddir + \"/total_\" + band + '.dat'\n",
    "\n",
    "\n",
    "    # register the LSST bands to the SNCosmo registry\n",
    "    # Not needed for LSST, but useful to compare independent codes\n",
    "    # Usually the next two lines can be merged,\n",
    "    # but there is an astropy bug currently which affects only OSX.\n",
    "    numpyband = np.loadtxt(bandfname)\n",
    "    print band\n",
    "    sncosmoband = sncosmo.Bandpass(wave=numpyband[:, 0],\n",
    "                                   trans=numpyband[:, 1],\n",
    "                                   wave_unit=Unit('nm'),\n",
    "                                   name=band)\n",
    "    sncosmo.registry.register(sncosmoband, force=True)"
   ]
  },
  {
   "cell_type": "code",
   "execution_count": 19,
   "metadata": {
    "collapsed": true
   },
   "outputs": [],
   "source": [
    "lsstCadence = deepcopy(gedankenLSST.LSSTReq)"
   ]
  },
  {
   "cell_type": "code",
   "execution_count": 20,
   "metadata": {
    "collapsed": true
   },
   "outputs": [],
   "source": [
    "## THIS IS WHAT YOU NEED TO CHANGE\n",
    "lsstCadence['bF'] = 1\n",
    "\n",
    "\n",
    "# time window increased to 200 days to make sure LC stays within time frame\n",
    "lsst_obs = gedankenLSST.GSN_Obs(mjd_center=49570., \n",
    "                                    lsstrequirements=lsstCadence,\n",
    "                                    ra=58., dec=-27.,\n",
    "                                    timeWindow=[-130., 150.]) \n",
    "\n",
    "snLSST = PerSNMetric(summarydf=lsst_obs.summary,t0=49570., raCol='ra', decCol='dec', lsst_bp=lsst_bp)"
   ]
  },
  {
   "cell_type": "code",
   "execution_count": 21,
   "metadata": {
    "collapsed": false
   },
   "outputs": [
    {
     "name": "stdout",
     "output_type": "stream",
     "text": [
      "20\n"
     ]
    }
   ],
   "source": [
    "# function that takes a set of parameters, producing a lightcurve mathematical function\n",
    "data = snLSST.SNCosmoLC() #sncosmo.Model(source='hsiao')\n",
    "#model.set(z=0.5, t0=55000., amplitude=1.e-10)"
   ]
  },
  {
   "cell_type": "code",
   "execution_count": 12,
   "metadata": {
    "collapsed": false
   },
   "outputs": [],
   "source": [
    "## For plotting tests\n",
    "# function that takes evaluates lightcurve function given a sampling strategy\n",
    "#times = [54990., 55000., 55020.]\n",
    "#samples = -1.*np.array(model.bandmag('desr', 'ab', times))\n",
    "#plt.plot(times,samples)"
   ]
  },
  {
   "cell_type": "code",
   "execution_count": 15,
   "metadata": {
    "collapsed": false
   },
   "outputs": [],
   "source": [
    "# function that shifts lightcurve sampling, creating many samplings of same underlying lightcurve\n",
    "#for x in times:\n",
    "#    model.set(z=0.5, t0=x, amplitude=1.e-10)\n",
    "#    sample = -1.*np.array(model.bandmag('desr', 'ab', times))\n",
    "#    plt.plot(times,sample)\n",
    "#plt.show()"
   ]
  },
  {
   "cell_type": "code",
   "execution_count": 24,
   "metadata": {
    "collapsed": false
   },
   "outputs": [],
   "source": [
    "# function that fits lightcurves to samples, producing some set of parameters and variances\n",
    "\n",
    "model = sncosmo.Model(source='salt2-extended')\n",
    "fit_out = sncosmo.fit_lc(data,model,['z', 't0', 'x0', 'x1', 'c'],bounds={'z':(0.3, 0.7)})\n",
    "\n",
    "#model = sncosmo.Model(source='salt2-extended')\n",
    "#mcmc_out = sncosmo.mcmc_lc(data,model,['z', 't0', 'x0', 'x1', 'c'],bounds={'z':(0.3, 0.7)})"
   ]
  },
  {
   "cell_type": "code",
   "execution_count": 38,
   "metadata": {
    "collapsed": false
   },
   "outputs": [
    {
     "name": "stdout",
     "output_type": "stream",
     "text": [
      "(array([  5.04327775e-01,   4.95700436e+04,   8.90806593e-06,\n",
      "         1.32465424e-02,   2.14682932e-02]), OrderedDict([('z', 0.029914892963567252), ('t0', 0.6736711627090699), ('x0', 2.8189711392232117e-07), ('x1', 0.3526768354774094), ('c', 0.05477753842357352)]))\n"
     ]
    }
   ],
   "source": [
    "params = fit_out[0].parameters\n",
    "errs = fit_out[0].errors\n",
    "print(params,errs)"
   ]
  },
  {
   "cell_type": "code",
   "execution_count": 40,
   "metadata": {
    "collapsed": true
   },
   "outputs": [],
   "source": [
    "def mu(params):\n",
    "    x0 = params[2]\n",
    "    x1 = params[3]\n",
    "    c = params[4]\n",
    "    return -2.5*np.log10(x0)+0.1*x1+-3.1*c"
   ]
  },
  {
   "cell_type": "code",
   "execution_count": 41,
   "metadata": {
    "collapsed": false
   },
   "outputs": [
    {
     "name": "stdout",
     "output_type": "stream",
     "text": [
      "12.5603143887\n"
     ]
    }
   ],
   "source": [
    "onemu = mu(params)\n",
    "print(onemu)"
   ]
  },
  {
   "cell_type": "code",
   "execution_count": 14,
   "metadata": {
    "collapsed": false
   },
   "outputs": [],
   "source": [
    "t = anf.ResChar.fromSNCosmoRes(mcmc_out)\n",
    "samples = t.salt_samples()\n",
    "mu = samples['mu']"
   ]
  },
  {
   "cell_type": "code",
   "execution_count": 19,
   "metadata": {
    "collapsed": false
   },
   "outputs": [],
   "source": [
    "var_mu = t.salt_samples().mu.std()*t.salt_samples().mu.std()"
   ]
  },
  {
   "cell_type": "code",
   "execution_count": 21,
   "metadata": {
    "collapsed": false
   },
   "outputs": [],
   "source": [
    "# function that produces expected value of variances for many shifted lightcurves"
   ]
  },
  {
   "cell_type": "code",
   "execution_count": null,
   "metadata": {
    "collapsed": true
   },
   "outputs": [],
   "source": [
    "# function that calculates bias of fit parameters relative to true parameters"
   ]
  },
  {
   "cell_type": "code",
   "execution_count": null,
   "metadata": {
    "collapsed": true
   },
   "outputs": [],
   "source": [
    "# use LSST cadence\n",
    "# choose number of lightcurves to shift\n",
    "# for each shifted lightcurve, evaluate at sampling locations (no measurement errors for now)\n",
    "# for each shifted lightcurve, calculate variance of parameters, then sum them to get expected value of variance\n",
    "# profit"
   ]
  }
 ],
 "metadata": {
  "kernelspec": {
   "display_name": "Python 2",
   "language": "python",
   "name": "python2"
  },
  "language_info": {
   "codemirror_mode": {
    "name": "ipython",
    "version": 2
   },
   "file_extension": ".py",
   "mimetype": "text/x-python",
   "name": "python",
   "nbconvert_exporter": "python",
   "pygments_lexer": "ipython2",
   "version": "2.7.11"
  }
 },
 "nbformat": 4,
 "nbformat_minor": 0
}
