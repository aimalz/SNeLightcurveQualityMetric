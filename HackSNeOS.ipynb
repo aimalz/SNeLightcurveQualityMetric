{
 "cells": [
  {
   "cell_type": "code",
   "execution_count": 1,
   "metadata": {
    "collapsed": false
   },
   "outputs": [],
   "source": [
    "%matplotlib inline\n",
    "%load_ext autoreload\n",
    "\n",
    "import numpy as np\n",
    "import os\n",
    "import matplotlib.pyplot as plt\n",
    "import pandas as pd\n",
    "\n",
    "import sncosmo\n",
    "\n",
    "from copy import deepcopy\n",
    "import gedankenLSST\n",
    "\n",
    "from LSSTmetrics import PerSNMetric\n",
    "from lsst.sims.photUtils import BandpassDict\n",
    "\n",
    "import analyzelcFits as anf"
   ]
  },
  {
   "cell_type": "code",
   "execution_count": 2,
   "metadata": {
    "collapsed": false
   },
   "outputs": [],
   "source": [
    "# Run this once. It does not change\n",
    "\n",
    "lsst_bp = BandpassDict.loadTotalBandpassesFromFiles()\n",
    "\n",
    "# sncosmo Bandpasses required for fitting\n",
    "throughputsdir = os.getenv('THROUGHPUTS_DIR')\n",
    "\n",
    "from astropy.units import Unit\n",
    "bandPassList = ['u', 'g', 'r', 'i', 'z', 'y']\n",
    "banddir = os.path.join(os.getenv('THROUGHPUTS_DIR'), 'baseline')\n",
    "\n",
    "for band in bandPassList:\n",
    "\n",
    "    # setup sncosmo bandpasses\n",
    "    bandfname = banddir + \"/total_\" + band + '.dat'\n",
    "\n",
    "\n",
    "    # register the LSST bands to the SNCosmo registry\n",
    "    # Not needed for LSST, but useful to compare independent codes\n",
    "    # Usually the next two lines can be merged,\n",
    "    # but there is an astropy bug currently which affects only OSX.\n",
    "    numpyband = np.loadtxt(bandfname)\n",
    "    #print band\n",
    "    sncosmoband = sncosmo.Bandpass(wave=numpyband[:, 0],\n",
    "                                   trans=numpyband[:, 1],\n",
    "                                   wave_unit=Unit('nm'),\n",
    "                                   name=band)\n",
    "    sncosmo.registry.register(sncosmoband, force=True)"
   ]
  },
  {
   "cell_type": "code",
   "execution_count": 3,
   "metadata": {
    "collapsed": true
   },
   "outputs": [],
   "source": [
    "lsstCadence = deepcopy(gedankenLSST.LSSTReq)"
   ]
  },
  {
   "cell_type": "code",
   "execution_count": 4,
   "metadata": {
    "collapsed": false
   },
   "outputs": [],
   "source": [
    "# function that produces expected value of variances for many shifted lightcurves\n",
    "# sncosmo_lc\n",
    "\n",
    "\n",
    "def shift_loop(delta_t0, lsst_obs):\n",
    "    var = []\n",
    "\n",
    "    for i in delta_t0:\n",
    "        try:\n",
    "            sn = PerSNMetric(summarydf=lsst_obs.summary,t0=i, raCol='ra', decCol='dec', lsst_bp=lsst_bp)\n",
    "            var.append(1.0/sn.qualityMetric(Disp=1.0))\n",
    "            #print 'variance!', var[i]\n",
    "        except:\n",
    "            print('I failed!')\n",
    "    \n",
    "    return np.mean(np.array(var))\n"
   ]
  },
  {
   "cell_type": "code",
   "execution_count": 5,
   "metadata": {
    "collapsed": true
   },
   "outputs": [],
   "source": [
    "# use LSST cadence\n",
    "# choose number of lightcurves to shift\n",
    "# for each shifted lightcurve, evaluate at sampling locations (no measurement errors for now)\n",
    "# for each shifted lightcurve, calculate variance of parameters, then sum them to get expected value of variance\n",
    "# profit\n",
    "\n",
    "\n",
    "\n",
    "def cadence_loop(bumps,delta_t0):\n",
    "    #delta_t0 = np.linspace(snLSST.SN.mintime(), snLSST.SN.maxtime(), 10)\n",
    "    #print delta_t0\n",
    "    #print bumps\n",
    "    length = []\n",
    "    mu_variance_per_bump = []\n",
    "    for i in bumps:\n",
    "        print i\n",
    "        lsstCadence['bF'] = i\n",
    "        \n",
    "        lsst_obs = gedankenLSST.GSN_Obs(mjd_center=49570., \n",
    "                                    lsstrequirements=lsstCadence,\n",
    "                                    ra=58., dec=-27.,\n",
    "                                    timeWindow=[-130., 150.]) \n",
    "        length.append(len(lsst_obs.summary))\n",
    "        mu_variance_per_bump.append(shift_loop(delta_t0, lsst_obs))\n",
    "    \n",
    "    return mu_variance_per_bump, length\n"
   ]
  },
  {
   "cell_type": "code",
   "execution_count": 6,
   "metadata": {
    "collapsed": false,
    "scrolled": false
   },
   "outputs": [
    {
     "name": "stdout",
     "output_type": "stream",
     "text": [
      "0.1\n",
      "0\n",
      "I failed!\n",
      "5\n",
      "5\n",
      "5\n",
      "5\n",
      "5\n",
      "5\n",
      "5\n",
      "5"
     ]
    },
    {
     "name": "stderr",
     "output_type": "stream",
     "text": [
      "/Users/karaponder/.local/lib/python2.7/site-packages/LSSTmetrics/metrics.py:159: SettingWithCopyWarning: \n",
      "A value is trying to be set on a copy of a slice from a DataFrame.\n",
      "Try using .loc[row_indexer,col_indexer] = value instead\n",
      "\n",
      "See the caveats in the documentation: http://pandas.pydata.org/pandas-docs/stable/indexing.html#indexing-view-versus-copy\n",
      "  df['SNR'] = df['flux'] / df['fluxerr']\n",
      "/Users/karaponder/.local/lib/python2.7/site-packages/LSSTmetrics/metrics.py:161: SettingWithCopyWarning: \n",
      "A value is trying to be set on a copy of a slice from a DataFrame.\n",
      "Try using .loc[row_indexer,col_indexer] = value instead\n",
      "\n",
      "See the caveats in the documentation: http://pandas.pydata.org/pandas-docs/stable/indexing.html#indexing-view-versus-copy\n",
      "  df['DetectionEfficiency'] = df.apply(self.func, axis=1)\n",
      "/Users/karaponder/.local/lib/python2.7/site-packages/LSSTmetrics/metrics.py:162: SettingWithCopyWarning: \n",
      "A value is trying to be set on a copy of a slice from a DataFrame\n",
      "\n",
      "See the caveats in the documentation: http://pandas.pydata.org/pandas-docs/stable/indexing.html#indexing-view-versus-copy\n",
      "  df.sort_values('SNR', ascending=False, inplace=True)\n"
     ]
    },
    {
     "name": "stdout",
     "output_type": "stream",
     "text": [
      "\n",
      "0\n",
      "I failed!\n",
      "0.3\n",
      "9\n",
      "6\n",
      "6\n",
      "6\n",
      "9\n",
      "9\n",
      "6\n",
      "6\n",
      "6\n",
      "9\n",
      "0.5\n",
      "10\n",
      "13\n",
      "10\n",
      "10\n",
      "9\n",
      "9\n",
      "10\n",
      "I failed!\n",
      "10\n",
      "13\n",
      "10\n",
      "0.7\n",
      "17\n",
      "15\n",
      "14\n",
      "14\n",
      "15\n",
      "15\n",
      "14\n",
      "14\n",
      "15\n",
      "17\n",
      "0.9\n",
      "18\n",
      "19\n",
      "17\n",
      "17\n",
      "18\n",
      "18\n",
      "19\n",
      "17\n",
      "19\n",
      "18\n",
      "1.1\n",
      "19\n",
      "23\n",
      "24\n",
      "20\n",
      "21\n",
      "21\n",
      "20\n",
      "24\n",
      "23\n",
      "19\n",
      "1.3\n",
      "23\n",
      "25\n",
      "26\n",
      "25\n",
      "24\n",
      "24\n",
      "25\n",
      "I failed!\n",
      "26\n",
      "25\n",
      "23\n",
      "1.5\n",
      "29\n",
      "29\n",
      "29\n",
      "29\n",
      "27\n",
      "I failed!\n",
      "27\n",
      "29\n",
      "29\n",
      "I failed!\n",
      "29\n",
      "29\n",
      "1.7\n",
      "34\n",
      "34\n",
      "31\n",
      "31\n",
      "31\n",
      "31\n",
      "31\n",
      "31\n",
      "34\n",
      "34\n",
      "1.9\n",
      "35\n",
      "37\n",
      "36\n",
      "37\n",
      "34\n",
      "34\n",
      "35\n",
      "36\n",
      "37\n",
      "35\n",
      "I failed!\n",
      "2.1\n",
      "41\n",
      "41\n",
      "41\n",
      "39\n",
      "39\n",
      "39\n",
      "39\n",
      "41\n",
      "I failed!\n",
      "41\n",
      "41\n",
      "2.3\n",
      "44\n",
      "41\n",
      "42\n",
      "43\n",
      "43\n",
      "43\n",
      "43\n",
      "42\n",
      "41\n",
      "44\n",
      "2.5\n",
      "46\n",
      "51\n",
      "45\n",
      "46\n",
      "45\n",
      "45\n",
      "49\n",
      "45\n",
      "51\n",
      "46\n",
      "2.7\n",
      "51\n",
      "52\n",
      "51\n",
      "49\n",
      "51"
     ]
    },
    {
     "name": "stderr",
     "output_type": "stream",
     "text": [
      "/Users/karaponder/anaconda/lib/python2.7/site-packages/sncosmo-1.1.dev516-py2.7-macosx-10.5-x86_64.egg/sncosmo/fitting.py:428: RuntimeWarning: fcn returns Nan\n",
      "fcn is called with following arguments:\n",
      "          z = +0.500000\n",
      "         t0 = +49600.316447\n",
      "         x0 = +0.000034\n",
      "         x1 = -7.602468\n",
      "          c = -116.111286\n",
      "    hostebv = +0.000000\n",
      "    hostr_v = +3.100000\n",
      "      mwebv = +0.053107\n",
      "      mwr_v = +3.100000\n",
      "\n",
      "  d, l = m.migrad(ncall=maxcall)\n",
      "/Users/karaponder/anaconda/lib/python2.7/site-packages/sncosmo-1.1.dev516-py2.7-macosx-10.5-x86_64.egg/sncosmo/fitting.py:428: RuntimeWarning: fcn returns Nan\n",
      "fcn is called with following arguments:\n",
      "          z = +0.500000\n",
      "         t0 = +49470.688425\n",
      "         x0 = +0.211796\n",
      "         x1 = -47.939012\n",
      "          c = +1053.448500\n",
      "    hostebv = +0.000000\n",
      "    hostr_v = +3.100000\n",
      "      mwebv = +0.053107\n",
      "      mwr_v = +3.100000\n",
      "\n",
      "  d, l = m.migrad(ncall=maxcall)\n"
     ]
    },
    {
     "name": "stdout",
     "output_type": "stream",
     "text": [
      "\n",
      "I failed!\n",
      "51\n",
      "49\n",
      "51\n",
      "52\n",
      "I failed!\n",
      "51\n",
      "2.9\n",
      "55\n",
      "53\n",
      "56\n",
      "54\n",
      "55\n",
      "55\n",
      "54\n",
      "56\n",
      "53\n",
      "55\n"
     ]
    }
   ],
   "source": [
    "t0 = 49570.\n",
    "dt = 50.\n",
    "delta_t0 = np.linspace(t0-dt,t0+dt,10)\n",
    "#49540.0\n",
    "#49645.0\n",
    "\n",
    "#normalize Max-Min/ time window\n",
    "\n",
    "bumps = np.arange(0.1, 3, 0.2)\n",
    "mvpb, length = cadence_loop(bumps,delta_t0)"
   ]
  },
  {
   "cell_type": "markdown",
   "metadata": {},
   "source": [
    "## TESTING BELOW"
   ]
  },
  {
   "cell_type": "code",
   "execution_count": null,
   "metadata": {
    "collapsed": false
   },
   "outputs": [],
   "source": [
    "#bumps1 = np.arange(0.2, 1.5, 0.2)\n",
    "#mvpb1, length1 = cadence_loop(bumps1,delta_t0)"
   ]
  },
  {
   "cell_type": "code",
   "execution_count": 15,
   "metadata": {
    "collapsed": false
   },
   "outputs": [
    {
     "data": {
      "text/plain": [
       "(-1, 2)"
      ]
     },
     "execution_count": 15,
     "metadata": {},
     "output_type": "execute_result"
    },
    {
     "data": {
      "image/png": "[encoded data removed]",
      "text/plain": [
       "<matplotlib.figure.Figure at 0x110fe58d0>"
      ]
     },
     "metadata": {},
     "output_type": "display_data"
    }
   ],
   "source": [
    "normalize =(49645.0 - 49540.0)/(130.+ 150.)\n",
    "\n",
    "plt.figure(figsize = (8,6))\n",
    "plt.plot(np.array(length)*normalize, mvpb, 'o')\n",
    "plt.plot(np.array(length)*normalize, 1.0/(np.array(length)*normalize))\n",
    "plt.ylabel('expectation value of variance(distance modulus)')\n",
    "plt.xlabel('N_effective')\n",
    "plt.ylim(-1, 2)"
   ]
  },
  {
   "cell_type": "code",
   "execution_count": 7,
   "metadata": {
    "collapsed": true
   },
   "outputs": [],
   "source": [
    "## THIS IS WHAT YOU NEED TO CHANGE\n",
    "lsstCadence['bF'] = 1\n",
    "\n",
    "\n",
    "# time window increased to 200 days to make sure LC stays within time frame\n",
    "lsst_obs = gedankenLSST.GSN_Obs(mjd_center=49570., \n",
    "                                    lsstrequirements=lsstCadence,\n",
    "                                    ra=58., dec=-27.,\n",
    "                                    timeWindow=[-130., 150.]) "
   ]
  },
  {
   "cell_type": "code",
   "execution_count": 13,
   "metadata": {
    "collapsed": false
   },
   "outputs": [
    {
     "data": {
      "text/plain": [
       "68"
      ]
     },
     "execution_count": 13,
     "metadata": {},
     "output_type": "execute_result"
    }
   ],
   "source": [
    "len(lsst_obs.summary)\n",
    "#snLSST = PerSNMetric(summarydf=lsst_obs.summary,t0=49570., raCol='ra', decCol='dec', lsst_bp=lsst_bp)"
   ]
  },
  {
   "cell_type": "code",
   "execution_count": 16,
   "metadata": {
    "collapsed": false
   },
   "outputs": [
    {
     "name": "stdout",
     "output_type": "stream",
     "text": [
      "[11, 43, 78, 109, 140, 171, 202, 233, 265, 296, 329, 360, 391, 423, 457, 486, 517, 550, 581, 614]\n"
     ]
    }
   ],
   "source": [
    "print length\n",
    "#1.0/ snLSST.qualityMetric(Disp=1.0) #= 0.05**2/sigma**2"
   ]
  },
  {
   "cell_type": "code",
   "execution_count": 50,
   "metadata": {
    "collapsed": false,
    "scrolled": false
   },
   "outputs": [
    {
     "name": "stdout",
     "output_type": "stream",
     "text": [
      "19\n",
      "19\n",
      "20\n",
      "20\n",
      "19\n",
      "21\n",
      "19\n",
      "18\n",
      "22\n",
      "17\n"
     ]
    }
   ],
   "source": [
    "var = []\n",
    "delta_t0 = np.linspace(snLSST.SN.mintime(), snLSST.SN.maxtime(), 10)\n",
    "\n",
    "for i in delta_t0:\n",
    "    try:\n",
    "        sn = PerSNMetric(summarydf=lsst_obs.summary,t0=i, raCol='ra', decCol='dec', lsst_bp=lsst_bp)\n",
    "        #sn.lcplot()\n",
    "        #sn.SNCosmoLC()\n",
    "        #print sn.qualityMetric(Disp=1.0)\n",
    "        var.append(1.0/sn.qualityMetric(Disp=1.0))\n",
    "    \n",
    "        #print var\n",
    "    except:\n",
    "        print('I failed!')\n",
    "    \n",
    "mean_var = np.mean(np.array(var))"
   ]
  },
  {
   "cell_type": "code",
   "execution_count": 12,
   "metadata": {
    "collapsed": false
   },
   "outputs": [
    {
     "name": "stdout",
     "output_type": "stream",
     "text": [
      "49540.0\n",
      "49645.0\n"
     ]
    }
   ],
   "source": [
    "#print len(var), var, mean_var\n",
    "\n",
    "print snLSST.SN.mintime()\n",
    "print snLSST.SN.maxtime()"
   ]
  },
  {
   "cell_type": "code",
   "execution_count": 13,
   "metadata": {
    "collapsed": false
   },
   "outputs": [
    {
     "name": "stderr",
     "output_type": "stream",
     "text": [
      "/Users/karaponder/.local/lib/python2.7/site-packages/LSSTmetrics/metrics.py:99: SettingWithCopyWarning: \n",
      "A value is trying to be set on a copy of a slice from a DataFrame.\n",
      "Try using .loc[row_indexer,col_indexer] = value instead\n",
      "\n",
      "See the caveats in the documentation: http://pandas.pydata.org/pandas-docs/stable/indexing.html#indexing-view-versus-copy\n",
      "  lc['modelFlux'] = lc['flux']\n",
      "/Users/karaponder/.local/lib/python2.7/site-packages/LSSTmetrics/metrics.py:102: SettingWithCopyWarning: \n",
      "A value is trying to be set on a copy of a slice from a DataFrame.\n",
      "Try using .loc[row_indexer,col_indexer] = value instead\n",
      "\n",
      "See the caveats in the documentation: http://pandas.pydata.org/pandas-docs/stable/indexing.html#indexing-view-versus-copy\n",
      "  lc['deviation'] = np.random.normal(size=len(lc['flux']))\n"
     ]
    },
    {
     "name": "stdout",
     "output_type": "stream",
     "text": [
      "20\n"
     ]
    }
   ],
   "source": [
    "# function that takes a set of parameters, producing a lightcurve mathematical function\n",
    "data = snLSST.SNCosmoLC() #sncosmo.Model(source='hsiao')\n",
    "#model.set(z=0.5, t0=55000., amplitude=1.e-10)"
   ]
  },
  {
   "cell_type": "code",
   "execution_count": 12,
   "metadata": {
    "collapsed": false
   },
   "outputs": [],
   "source": [
    "## For plotting tests\n",
    "# function that takes evaluates lightcurve function given a sampling strategy\n",
    "#times = [54990., 55000., 55020.]\n",
    "#samples = -1.*np.array(model.bandmag('desr', 'ab', times))\n",
    "#plt.plot(times,samples)"
   ]
  },
  {
   "cell_type": "code",
   "execution_count": 15,
   "metadata": {
    "collapsed": false
   },
   "outputs": [],
   "source": [
    "# function that shifts lightcurve sampling, creating many samplings of same underlying lightcurve\n",
    "#for x in times:\n",
    "#    model.set(z=0.5, t0=x, amplitude=1.e-10)\n",
    "#    sample = -1.*np.array(model.bandmag('desr', 'ab', times))\n",
    "#    plt.plot(times,sample)\n",
    "#plt.show()"
   ]
  },
  {
   "cell_type": "code",
   "execution_count": 15,
   "metadata": {
    "collapsed": false
   },
   "outputs": [],
   "source": [
    "# function that fits lightcurves to samples, producing some set of parameters and variances\n",
    "# first try maximum likelihood method of sncosmo.fit_lc\n",
    "#data = sncosmo.load_example_data()\n",
    "\n",
    "model = sncosmo.Model(source='salt2-extended')\n",
    "\n",
    "#mcmc_out = sncosmo.fit_lc(data,model,['z', 't0', 'x0', 'x1', 'c'],bounds={'z':(0.3, 0.7)})\n",
    "#print(res.errors)\n",
    "# next try sampling method of sncosmo.mcmc_lc\n",
    "mcmc_out = sncosmo.mcmc_lc(data,model,['z', 't0', 'x0', 'x1', 'c'],bounds={'z':(0.3, 0.7)})\n",
    "#print(res.errors)"
   ]
  },
  {
   "cell_type": "code",
   "execution_count": 17,
   "metadata": {
    "collapsed": false
   },
   "outputs": [
    {
     "data": {
      "text/plain": [
       "(       errors: OrderedDict([('z', 0.02978110321019567), ('t0', 0.6706340320961317), ('x0', 2.8197214166691003e-07), ('x1', 0.3511095350335572), ('c', 0.05453045604157661)])\n",
       "   parameters: array([  5.04327426e-01,   4.95700436e+04,   8.94929586e-06,\n",
       "         1.32433316e-02,   2.14689961e-02])\n",
       "      success: True\n",
       "         ndof: 15\n",
       "   covariance: array([[  8.93551032e-04,   1.37791936e-02,  -7.22520818e-10,\n",
       "          1.73195160e-03,  -1.25847576e-03],\n",
       "       [  1.37791936e-02,   4.49759590e-01,  -5.11834555e-08,\n",
       "          1.00655758e-01,  -2.23722465e-02],\n",
       "       [ -7.22520818e-10,  -5.11834555e-08,   7.95082887e-14,\n",
       "         -5.78691000e-08,   7.82384516e-10],\n",
       "       [  1.73195160e-03,   1.00655758e-01,  -5.78691000e-08,\n",
       "          1.23277906e-01,   3.05761805e-04],\n",
       "       [ -1.25847576e-03,  -2.23722465e-02,   7.82384516e-10,\n",
       "          3.05761805e-04,   2.97357064e-03]])\n",
       " vparam_names: ['z', 't0', 'x0', 'x1', 'c']\n",
       "        chisq: 0.0256900174467948\n",
       "  param_names: ['z', 't0', 'x0', 'x1', 'c']\n",
       "      message: 'Minimization exited successfully.'\n",
       "        ncall: 150,\n",
       " <sncosmo.models.Model at 0x10e3b5250>)"
      ]
     },
     "execution_count": 17,
     "metadata": {},
     "output_type": "execute_result"
    }
   ],
   "source": [
    "#t = anf.ResChar.fromSNCosmoRes(mcmc_out)\n",
    "#samples = t.salt_samples()\n",
    "#mu = samples['mu']"
   ]
  },
  {
   "cell_type": "code",
   "execution_count": 19,
   "metadata": {
    "collapsed": false
   },
   "outputs": [],
   "source": [
    "#var_mu = t.salt_samples().mu.std()*t.salt_samples().mu.std()"
   ]
  },
  {
   "cell_type": "code",
   "execution_count": null,
   "metadata": {
    "collapsed": true
   },
   "outputs": [],
   "source": [
    "# function that calculates bias of fit parameters relative to true parameters"
   ]
  },
  {
   "cell_type": "code",
   "execution_count": 63,
   "metadata": {
    "collapsed": false
   },
   "outputs": [
    {
     "name": "stdout",
     "output_type": "stream",
     "text": [
      "[]\n"
     ]
    }
   ],
   "source": [
    "print bumps"
   ]
  },
  {
   "cell_type": "code",
   "execution_count": 64,
   "metadata": {
    "collapsed": true
   },
   "outputs": [],
   "source": []
  },
  {
   "cell_type": "code",
   "execution_count": null,
   "metadata": {
    "collapsed": true
   },
   "outputs": [],
   "source": []
  }
 ],
 "metadata": {
  "kernelspec": {
   "display_name": "Python 2",
   "language": "python",
   "name": "python2"
  },
  "language_info": {
   "codemirror_mode": {
    "name": "ipython",
    "version": 2
   },
   "file_extension": ".py",
   "mimetype": "text/x-python",
   "name": "python",
   "nbconvert_exporter": "python",
   "pygments_lexer": "ipython2",
   "version": "2.7.11"
  }
 },
 "nbformat": 4,
 "nbformat_minor": 0
}
